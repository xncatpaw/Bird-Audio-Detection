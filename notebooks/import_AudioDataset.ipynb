{
 "cells": [
  {
   "cell_type": "code",
   "execution_count": 1,
   "id": "7cf3bfe4-f886-471b-a063-b576356f3431",
   "metadata": {},
   "outputs": [],
   "source": [
    "import sys\n",
    "sys.path.insert(0, '../')\n",
    "import os\n",
    "import shutil\n",
    "import math\n",
    "from itertools import accumulate\n",
    "from collections import Counter\n",
    "import pandas as pd\n",
    "import torch\n",
    "import torch.nn.functional as F\n",
    "from torch.utils.data import Dataset, DataLoader\n",
    "import torchaudio\n",
    "from AudioDataset import AudioDataset"
   ]
  },
  {
   "cell_type": "markdown",
   "id": "3f80bed0-6072-4c61-b8a0-5df64b40ec3c",
   "metadata": {},
   "source": [
    "## Import AudioDataset and creat train_iter, valid_iter, test_iter"
   ]
  },
  {
   "cell_type": "code",
   "execution_count": 2,
   "id": "efc68559-3159-402f-8c3a-e9ede80e5e04",
   "metadata": {},
   "outputs": [],
   "source": [
    "train_dir = '../data/train'\n",
    "valid_dir = '../data/valid'\n",
    "test_dir = '../data/test'\n",
    "if torch.cuda.is_available():\n",
    "    device = 'cuda:0'\n",
    "else:\n",
    "    device = 'cpu'\n",
    "sample_rate = 44100\n",
    "num_sample = 441000\n",
    "mel_sepectrogram = torchaudio.transforms.MelSpectrogram(\n",
    "    sample_rate=sample_rate,\n",
    "    n_fft=1024,\n",
    "    hop_length=512,\n",
    "    n_mels=64\n",
    ")"
   ]
  },
  {
   "cell_type": "code",
   "execution_count": 3,
   "id": "a4d2382c-e275-4513-8e66-69803fc3b4f5",
   "metadata": {},
   "outputs": [],
   "source": [
    "train_df = pd.read_csv('../data/train_labels.csv', sep=',')\n",
    "valid_df = pd.read_csv('../data/valid_labels.csv', sep=',')\n",
    "test_df = pd.read_csv('../data/test_labels.csv', sep=',')"
   ]
  },
  {
   "cell_type": "code",
   "execution_count": 5,
   "id": "4034212e-1b84-4f90-931d-74abab7d619f",
   "metadata": {},
   "outputs": [],
   "source": [
    "train_dataset = AudioDataset(train_df, train_dir, mel_sepectrogram, sample_rate, num_sample, device, is_train_or_valid=True)\n",
    "valid_dataset = AudioDataset(valid_df, valid_dir, mel_sepectrogram, sample_rate, num_sample, device, is_train_or_valid=True)\n",
    "test_dataset = AudioDataset(test_df, test_dir, mel_sepectrogram, sample_rate, num_sample, device, is_train_or_valid=False)"
   ]
  },
  {
   "cell_type": "code",
   "execution_count": 6,
   "id": "43c4cd45-35ab-4a5e-9821-54416b9afa77",
   "metadata": {},
   "outputs": [],
   "source": [
    "batch_size = 128\n",
    "train_iter = DataLoader(train_dataset, batch_size=batch_size, shuffle=True, num_workers=0)\n",
    "valid_iter = DataLoader(valid_dataset, batch_size=batch_size, shuffle=True, num_workers=4)\n",
    "test_iter = DataLoader(test_dataset, batch_size=batch_size, shuffle=True, num_workers=4)"
   ]
  },
  {
   "cell_type": "code",
   "execution_count": null,
   "id": "913edd1f-ca20-4ecb-b5fe-68b0b2c69ef5",
   "metadata": {},
   "outputs": [],
   "source": []
  },
  {
   "cell_type": "markdown",
   "id": "1b43ec6b-b023-47d8-ac98-76849fa95381",
   "metadata": {},
   "source": [
    "## test"
   ]
  },
  {
   "cell_type": "code",
   "execution_count": 7,
   "id": "dc4cc689-3c8b-413d-ad28-91162f153434",
   "metadata": {},
   "outputs": [
    {
     "data": {
      "text/plain": [
       "(8620, 3138, 8620)"
      ]
     },
     "execution_count": 7,
     "metadata": {},
     "output_type": "execute_result"
    }
   ],
   "source": [
    "len(test_dataset), len(valid_dataset), len(test_dataset)"
   ]
  },
  {
   "cell_type": "code",
   "execution_count": 8,
   "id": "450a5f8a-a1ea-4639-bdf2-9c57c8655726",
   "metadata": {},
   "outputs": [
    {
     "data": {
      "text/plain": [
       "((tensor([[[1.1633e+02, 3.8026e+02, 3.4064e+02,  ..., 5.7142e+02,\n",
       "            3.7510e+02, 1.3724e+03],\n",
       "           [2.3848e+01, 4.9045e+01, 4.3070e+01,  ..., 8.2234e+01,\n",
       "            5.8340e+01, 1.7947e+02],\n",
       "           [3.0780e+00, 2.0690e-01, 3.3941e-02,  ..., 2.4016e+00,\n",
       "            3.0143e+00, 1.5435e+00],\n",
       "           ...,\n",
       "           [8.9861e-04, 1.3113e-03, 1.0714e-03,  ..., 2.9557e-04,\n",
       "            3.0149e-04, 3.4686e-04],\n",
       "           [8.8186e-04, 1.5311e-03, 1.3008e-03,  ..., 3.3841e-04,\n",
       "            3.5703e-04, 4.5909e-04],\n",
       "           [7.4307e-04, 9.5932e-04, 8.2296e-04,  ..., 2.3123e-04,\n",
       "            3.4594e-04, 1.9274e-04]]], device='cuda:0'),\n",
       "  1),\n",
       " (tensor([[[ 0.6874,  0.4845,  0.1313,  ...,  1.6760,  1.8902,  1.4898],\n",
       "           [ 4.1843,  8.1157,  2.0886,  ..., 42.5024, 24.5852, 16.4842],\n",
       "           [ 9.9030, 10.6194,  3.0169,  ..., 29.5416, 59.8446, 68.7926],\n",
       "           ...,\n",
       "           [ 0.1746,  0.3060,  0.1547,  ...,  0.1943,  0.3051,  0.3026],\n",
       "           [ 0.2404,  0.2430,  0.2069,  ...,  0.2772,  0.2624,  0.2312],\n",
       "           [ 0.2140,  0.2302,  0.2588,  ...,  0.1922,  0.2074,  0.2314]]],\n",
       "         device='cuda:0'),\n",
       "  1),\n",
       " tensor([[[2.0830e+04, 2.9402e+03, 6.6354e+02,  ..., 2.4533e-01,\n",
       "           1.9798e+00, 1.5726e-01],\n",
       "          [3.5742e+03, 4.5797e+02, 1.1093e+02,  ..., 6.0970e-01,\n",
       "           1.4308e+00, 1.9485e+00],\n",
       "          [2.3599e+02, 2.4170e+01, 6.0418e+00,  ..., 5.8079e+00,\n",
       "           9.0470e+00, 4.1103e+00],\n",
       "          ...,\n",
       "          [1.1248e+01, 9.9449e+00, 1.0282e+01,  ..., 7.6822e+00,\n",
       "           8.7452e+00, 5.3763e+00],\n",
       "          [6.3625e+00, 3.7135e+00, 6.7954e+00,  ..., 6.0493e+00,\n",
       "           6.5350e+00, 6.1568e+00],\n",
       "          [3.2153e+00, 1.6355e+00, 2.9637e+00,  ..., 1.6885e+00,\n",
       "           1.9004e+00, 1.4305e+00]]], device='cuda:0'))"
      ]
     },
     "execution_count": 8,
     "metadata": {},
     "output_type": "execute_result"
    }
   ],
   "source": [
    "train_dataset[1], valid_dataset[2], test_dataset[3]"
   ]
  },
  {
   "cell_type": "code",
   "execution_count": 9,
   "id": "f70b5469-7529-470a-b83a-adbf6941869b",
   "metadata": {},
   "outputs": [
    {
     "data": {
      "text/plain": [
       "(torch.Size([1, 64, 862]), torch.Size([1, 64, 862]), torch.Size([1, 64, 862]))"
      ]
     },
     "execution_count": 9,
     "metadata": {},
     "output_type": "execute_result"
    }
   ],
   "source": [
    "train_dataset[100][0].shape, valid_dataset[200][0].shape, test_dataset[300].shape"
   ]
  },
  {
   "cell_type": "code",
   "execution_count": 10,
   "id": "aa781c4a-0f69-4292-b40d-9ca50d301b84",
   "metadata": {},
   "outputs": [
    {
     "data": {
      "text/plain": [
       "[tensor([[[[8.2308e-08, 2.6577e-08, 3.7945e-07,  ..., 1.2835e-05,\n",
       "            4.8284e-05, 2.8868e-03],\n",
       "           [9.7987e-08, 5.7030e-08, 4.2895e-07,  ..., 2.8272e-04,\n",
       "            6.5776e-04, 3.0101e-03],\n",
       "           [1.2398e-07, 3.0621e-08, 9.5070e-08,  ..., 2.6137e-03,\n",
       "            2.2891e-03, 1.2269e-02],\n",
       "           ...,\n",
       "           [2.4960e-06, 2.5149e-06, 2.4092e-06,  ..., 3.0111e-05,\n",
       "            2.4996e-05, 7.8534e-05],\n",
       "           [2.8452e-06, 4.0500e-06, 2.8573e-06,  ..., 2.1592e-05,\n",
       "            2.1787e-05, 3.7100e-05],\n",
       "           [2.4764e-06, 3.2499e-06, 2.0939e-06,  ..., 8.0805e-06,\n",
       "            6.2304e-06, 5.6010e-06]]],\n",
       " \n",
       " \n",
       "         [[[6.5579e-01, 7.6493e-02, 2.9243e-02,  ..., 6.7875e-01,\n",
       "            2.4297e-01, 4.4928e-02],\n",
       "           [2.9925e-01, 6.2422e-01, 3.1942e-02,  ..., 1.3887e+00,\n",
       "            1.5327e-01, 2.2501e-01],\n",
       "           [4.2503e-02, 8.1509e-01, 9.4089e-02,  ..., 9.2791e-01,\n",
       "            6.9442e-02, 7.3675e-01],\n",
       "           ...,\n",
       "           [2.1925e-04, 1.4650e-04, 1.4533e-04,  ..., 1.4843e-04,\n",
       "            2.0469e-04, 1.0538e-03],\n",
       "           [2.8134e-04, 2.0120e-04, 2.3770e-04,  ..., 2.5451e-04,\n",
       "            2.1350e-04, 6.4998e-04],\n",
       "           [3.8072e-04, 2.9354e-04, 2.6008e-04,  ..., 1.9006e-04,\n",
       "            3.0788e-04, 6.6502e-04]]],\n",
       " \n",
       " \n",
       "         [[[1.8356e-03, 1.1244e-02, 7.7072e-03,  ..., 4.4917e-03,\n",
       "            2.5565e-02, 1.6693e-02],\n",
       "           [3.3898e-02, 9.3843e-02, 1.0530e-01,  ..., 1.0048e-01,\n",
       "            2.0303e-02, 1.0326e-01],\n",
       "           [1.0898e-02, 6.6021e-02, 3.0791e-01,  ..., 4.6667e-01,\n",
       "            1.3416e-01, 4.0134e-01],\n",
       "           ...,\n",
       "           [1.1104e+00, 1.8978e+00, 1.1793e+00,  ..., 1.1412e+00,\n",
       "            1.1387e+00, 1.3099e+00],\n",
       "           [1.2639e+00, 2.0315e+00, 1.4525e+00,  ..., 1.2396e+00,\n",
       "            1.1403e+00, 9.7313e-01],\n",
       "           [4.6759e-01, 3.9959e-01, 2.8204e-01,  ..., 2.8048e-01,\n",
       "            4.0964e-01, 2.2396e-01]]],\n",
       " \n",
       " \n",
       "         ...,\n",
       " \n",
       " \n",
       "         [[[3.6894e+01, 6.6374e-02, 6.0252e-02,  ..., 7.3050e-02,\n",
       "            8.1741e-02, 3.1374e+00],\n",
       "           [6.1926e+01, 8.3389e+00, 3.3269e+00,  ..., 8.1115e-01,\n",
       "            2.3500e+00, 2.6269e+00],\n",
       "           [3.5714e+01, 1.1270e+01, 3.8493e+01,  ..., 1.9957e+01,\n",
       "            1.3816e+01, 2.3446e+01],\n",
       "           ...,\n",
       "           [2.5415e-04, 7.2965e-04, 6.2446e-04,  ..., 2.0478e-03,\n",
       "            1.0711e-03, 5.6278e-04],\n",
       "           [3.0529e-04, 2.4350e-04, 2.4323e-04,  ..., 3.0457e-04,\n",
       "            2.4889e-04, 1.1561e-04],\n",
       "           [1.5108e-04, 1.3841e-05, 1.2628e-05,  ..., 1.4458e-05,\n",
       "            1.8389e-05, 2.5933e-05]]],\n",
       " \n",
       " \n",
       "         [[[1.7047e+01, 1.7481e+02, 1.1341e+02,  ..., 9.4305e+00,\n",
       "            3.1295e+01, 3.7231e+01],\n",
       "           [2.2595e+00, 1.5410e+02, 1.9567e+01,  ..., 1.1463e+01,\n",
       "            1.1928e+01, 2.8733e+01],\n",
       "           [2.8203e+01, 1.1419e+02, 2.8197e+01,  ..., 2.7821e+00,\n",
       "            2.5993e+01, 1.5967e+01],\n",
       "           ...,\n",
       "           [1.8401e-03, 3.5284e-03, 3.2261e-03,  ..., 2.4556e-03,\n",
       "            3.8436e-03, 4.0104e-03],\n",
       "           [5.5841e-03, 3.3651e-03, 4.6256e-03,  ..., 2.4828e-03,\n",
       "            2.9806e-03, 6.4381e-03],\n",
       "           [5.6703e-03, 1.9224e-03, 2.9240e-03,  ..., 1.5041e-03,\n",
       "            1.3191e-03, 2.2401e-03]]],\n",
       " \n",
       " \n",
       "         [[[0.0000e+00, 2.0398e-09, 7.5979e-08,  ..., 4.0675e-01,\n",
       "            5.5482e+00, 0.0000e+00],\n",
       "           [0.0000e+00, 1.5514e-09, 2.3815e-07,  ..., 3.0608e+01,\n",
       "            7.7933e+00, 0.0000e+00],\n",
       "           [0.0000e+00, 5.3188e-10, 3.3373e-07,  ..., 7.5305e+01,\n",
       "            4.2111e+00, 0.0000e+00],\n",
       "           ...,\n",
       "           [0.0000e+00, 8.9565e-08, 1.8652e-06,  ..., 3.1809e+00,\n",
       "            6.3262e-01, 0.0000e+00],\n",
       "           [0.0000e+00, 8.2006e-08, 3.3590e-06,  ..., 2.5735e+00,\n",
       "            6.7158e-01, 0.0000e+00],\n",
       "           [0.0000e+00, 1.3797e-07, 3.0476e-06,  ..., 3.5026e-01,\n",
       "            1.7076e-01, 0.0000e+00]]]], device='cuda:0'),\n",
       " tensor([0, 0, 1, 1, 1, 0, 1, 1, 1, 1, 1, 0, 0, 1, 0, 1, 1, 0, 0, 0, 0, 0, 1, 1,\n",
       "         0, 1, 1, 1, 1, 0, 0, 1, 0, 1, 0, 0, 1, 0, 0, 0, 1, 1, 0, 0, 1, 1, 0, 1,\n",
       "         0, 1, 0, 1, 0, 1, 0, 1, 1, 0, 0, 1, 1, 1, 1, 0, 1, 0, 1, 1, 0, 0, 1, 0,\n",
       "         1, 0, 1, 0, 0, 1, 1, 0, 0, 1, 1, 1, 1, 0, 1, 1, 0, 1, 0, 1, 1, 1, 0, 0,\n",
       "         0, 0, 0, 1, 0, 0, 0, 0, 0, 0, 0, 1, 0, 1, 0, 0, 1, 0, 0, 1, 0, 1, 1, 1,\n",
       "         0, 1, 0, 1, 1, 1, 0, 1])]"
      ]
     },
     "execution_count": 10,
     "metadata": {},
     "output_type": "execute_result"
    }
   ],
   "source": [
    "next(iter(train_iter))"
   ]
  },
  {
   "cell_type": "code",
   "execution_count": null,
   "id": "c15472d0-779d-4145-b3fc-882688f99d2c",
   "metadata": {},
   "outputs": [],
   "source": []
  }
 ],
 "metadata": {
  "kernelspec": {
   "display_name": "Python 3",
   "language": "python",
   "name": "python3"
  },
  "language_info": {
   "codemirror_mode": {
    "name": "ipython",
    "version": 3
   },
   "file_extension": ".py",
   "mimetype": "text/x-python",
   "name": "python",
   "nbconvert_exporter": "python",
   "pygments_lexer": "ipython3",
   "version": "3.9.7"
  }
 },
 "nbformat": 4,
 "nbformat_minor": 5
}
