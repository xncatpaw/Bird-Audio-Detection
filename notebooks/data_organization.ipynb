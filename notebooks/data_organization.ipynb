{
 "cells": [
  {
   "cell_type": "code",
   "execution_count": 1,
   "id": "952624d9-13ef-44d6-9919-275b677b84e4",
   "metadata": {},
   "outputs": [],
   "source": [
    "import os\n",
    "import shutil\n",
    "import math\n",
    "from itertools import accumulate\n",
    "from collections import Counter\n",
    "import pandas as pd\n",
    "import torch\n",
    "import torch.nn.functional as F\n",
    "from torch.utils.data import Dataset, DataLoader\n",
    "import torchaudio"
   ]
  },
  {
   "cell_type": "markdown",
   "id": "08e6c301-9bdd-490b-8df3-1d4ec8f4ccfe",
   "metadata": {
    "tags": []
   },
   "source": [
    "## data organization"
   ]
  },
  {
   "cell_type": "code",
   "execution_count": 2,
   "id": "e08b3fc2-4f96-4e02-b05c-3340946f0937",
   "metadata": {},
   "outputs": [],
   "source": [
    "# hyperparameters\n",
    "train_valid_data_dirs = ['../original_data/ff1010bird/wav/', '../original_data/warblrb10k_public/wav/']\n",
    "test_data_dirs = ['../original_data/birdaudiodetectionchallenge_test/wav/']\n",
    "train_valid_label_files = ['../original_data/ff1010bird/ff1010bird_metadata.csv', '../original_data/warblrb10k_public/warblrb10k_public_metadata.csv']\n",
    "test_label_files = ['../original_data/birdaudiodetectionchallenge_test/badch_testset_blankresults.csv']\n",
    "new_dir = '../data'\n",
    "valid_ratio = 0.2"
   ]
  },
  {
   "cell_type": "code",
   "execution_count": 3,
   "id": "971f9561-a9dd-44d7-8551-966567de5062",
   "metadata": {},
   "outputs": [],
   "source": [
    "def copyfile(filename, target_dir):\n",
    "    os.makedirs(target_dir, exist_ok=True)\n",
    "    shutil.copy(filename, target_dir)"
   ]
  },
  {
   "cell_type": "code",
   "execution_count": 4,
   "id": "bfebb253-b2be-4f98-aa3a-2a793e29b95f",
   "metadata": {},
   "outputs": [],
   "source": [
    "def read_labels(filename):\n",
    "    label_df = pd.read_csv(filename)\n",
    "    label_df['itemid'] = label_df['itemid'].astype(str)\n",
    "    label_dict = dict(zip(label_df['itemid'], label_df['hasbird']))\n",
    "    return label_dict"
   ]
  },
  {
   "cell_type": "code",
   "execution_count": 5,
   "id": "8ebcfeb4-c888-4549-8d49-e94d92e49f0b",
   "metadata": {},
   "outputs": [],
   "source": [
    "def organize_train_valid(data_dirs, new_dir, label_dicts, valid_ratio=0.1):\n",
    "    train_dfs = []\n",
    "    valid_dfs = []\n",
    "    for data_dir, label_dict in zip(data_dirs, label_dicts):\n",
    "        train_df, valid_df = _organize_train_valid(data_dir, new_dir, label_dict, valid_ratio)\n",
    "        train_dfs.append(train_df)\n",
    "        valid_dfs.append(valid_df)\n",
    "    return pd.concat(train_dfs, ignore_index=True), pd.concat(valid_dfs, ignore_index=True)\n",
    "\n",
    "def _organize_train_valid(data_dir, new_dir, label_dict, valid_ratio):\n",
    "    n_valid = Counter(label_dict.values())\n",
    "    train_df = pd.DataFrame(columns=['filename', 'label'])\n",
    "    valid_df = pd.DataFrame(columns=['filename', 'label'])\n",
    "    for label, n_sample in n_valid.items():\n",
    "        n_valid[label] = max(1, math.floor(n_sample * valid_ratio))\n",
    "    for filename in os.listdir(data_dir):\n",
    "        label = label_dict[filename.split('.')[0]]\n",
    "        if n_valid[label] > 0:\n",
    "            copyfile(os.path.join(data_dir, filename),\n",
    "                     os.path.join(new_dir, 'valid'))\n",
    "            n_valid[label] -= 1\n",
    "            valid_df = valid_df.append({'filename':filename, 'label': label}, ignore_index=True)\n",
    "        else:\n",
    "            copyfile(os.path.join(data_dir, filename),\n",
    "                     os.path.join(new_dir, 'train'))\n",
    "            train_df = train_df.append({'filename':filename, 'label': label}, ignore_index=True)\n",
    "    return train_df, valid_df"
   ]
  },
  {
   "cell_type": "code",
   "execution_count": 6,
   "id": "31fe01c2-a449-4403-89f7-e875f13526f4",
   "metadata": {},
   "outputs": [],
   "source": [
    "def organize_test(data_dirs, new_dir):\n",
    "    test_df = pd.DataFrame(columns=['filename'])\n",
    "    for data_dir in data_dirs:\n",
    "        for filename in os.listdir(data_dir):\n",
    "            copyfile(os.path.join(data_dir, filename),\n",
    "                 os.path.join(new_dir, 'test'))\n",
    "            test_df = test_df.append({'filename':filename}, ignore_index=True)\n",
    "    return test_df"
   ]
  },
  {
   "cell_type": "code",
   "execution_count": 7,
   "id": "b2640491-7116-45e7-9f9d-6e553a8889a3",
   "metadata": {},
   "outputs": [],
   "source": [
    "train_valid_label_dicts = [read_labels(label_file) for label_file in train_valid_label_files]"
   ]
  },
  {
   "cell_type": "code",
   "execution_count": 8,
   "id": "c694d4e3-180a-4276-ac4c-e3bc510955d6",
   "metadata": {},
   "outputs": [],
   "source": [
    "train_df, valid_df = organize_train_valid(train_valid_data_dirs, new_dir, train_valid_label_dicts, valid_ratio=valid_ratio)"
   ]
  },
  {
   "cell_type": "code",
   "execution_count": 9,
   "id": "17e2a9f0-23e4-4193-9e5e-d720eec89e99",
   "metadata": {},
   "outputs": [],
   "source": [
    "test_df = organize_test(test_data_dirs, new_dir)"
   ]
  },
  {
   "cell_type": "code",
   "execution_count": 10,
   "id": "b78e1e03-983c-4021-b05f-ece06f862fe7",
   "metadata": {},
   "outputs": [],
   "source": [
    "train_df.to_csv('../data/train_labels.csv', sep=',', index=False)\n",
    "valid_df.to_csv('../data/valid_labels.csv', sep=',', index=False)\n",
    "test_df.to_csv('../data/test_labels.csv', sep=',', index=False)"
   ]
  },
  {
   "cell_type": "code",
   "execution_count": null,
   "id": "08ceecb6-a984-410a-b098-f79d4c38b57f",
   "metadata": {},
   "outputs": [],
   "source": []
  },
  {
   "cell_type": "code",
   "execution_count": null,
   "id": "438130a6-ae59-4d02-90e3-a0af62b462da",
   "metadata": {},
   "outputs": [],
   "source": []
  },
  {
   "cell_type": "code",
   "execution_count": null,
   "id": "b70a2ae5-7d86-4d70-af0d-4c2e7d857a92",
   "metadata": {},
   "outputs": [],
   "source": []
  },
  {
   "cell_type": "markdown",
   "id": "fc05d607-00e8-4fdb-b016-84bb40f5260e",
   "metadata": {},
   "source": [
    "#### test"
   ]
  },
  {
   "cell_type": "code",
   "execution_count": 11,
   "id": "bba74043-e73b-4e33-a11f-3645d92915da",
   "metadata": {},
   "outputs": [
    {
     "data": {
      "text/html": [
       "<div>\n",
       "<style scoped>\n",
       "    .dataframe tbody tr th:only-of-type {\n",
       "        vertical-align: middle;\n",
       "    }\n",
       "\n",
       "    .dataframe tbody tr th {\n",
       "        vertical-align: top;\n",
       "    }\n",
       "\n",
       "    .dataframe thead th {\n",
       "        text-align: right;\n",
       "    }\n",
       "</style>\n",
       "<table border=\"1\" class=\"dataframe\">\n",
       "  <thead>\n",
       "    <tr style=\"text-align: right;\">\n",
       "      <th></th>\n",
       "      <th>filename</th>\n",
       "      <th>label</th>\n",
       "    </tr>\n",
       "  </thead>\n",
       "  <tbody>\n",
       "    <tr>\n",
       "      <th>0</th>\n",
       "      <td>184751.wav</td>\n",
       "      <td>1</td>\n",
       "    </tr>\n",
       "    <tr>\n",
       "      <th>1</th>\n",
       "      <td>148879.wav</td>\n",
       "      <td>1</td>\n",
       "    </tr>\n",
       "  </tbody>\n",
       "</table>\n",
       "</div>"
      ],
      "text/plain": [
       "     filename label\n",
       "0  184751.wav     1\n",
       "1  148879.wav     1"
      ]
     },
     "execution_count": 11,
     "metadata": {},
     "output_type": "execute_result"
    }
   ],
   "source": [
    "train_df.head(2)"
   ]
  },
  {
   "cell_type": "code",
   "execution_count": 12,
   "id": "249e7e95-1801-40b6-88c9-400f71ee6b39",
   "metadata": {},
   "outputs": [
    {
     "data": {
      "text/html": [
       "<div>\n",
       "<style scoped>\n",
       "    .dataframe tbody tr th:only-of-type {\n",
       "        vertical-align: middle;\n",
       "    }\n",
       "\n",
       "    .dataframe tbody tr th {\n",
       "        vertical-align: top;\n",
       "    }\n",
       "\n",
       "    .dataframe thead th {\n",
       "        text-align: right;\n",
       "    }\n",
       "</style>\n",
       "<table border=\"1\" class=\"dataframe\">\n",
       "  <thead>\n",
       "    <tr style=\"text-align: right;\">\n",
       "      <th></th>\n",
       "      <th>filename</th>\n",
       "      <th>label</th>\n",
       "    </tr>\n",
       "  </thead>\n",
       "  <tbody>\n",
       "    <tr>\n",
       "      <th>0</th>\n",
       "      <td>9226.wav</td>\n",
       "      <td>0</td>\n",
       "    </tr>\n",
       "    <tr>\n",
       "      <th>1</th>\n",
       "      <td>75860.wav</td>\n",
       "      <td>0</td>\n",
       "    </tr>\n",
       "  </tbody>\n",
       "</table>\n",
       "</div>"
      ],
      "text/plain": [
       "    filename label\n",
       "0   9226.wav     0\n",
       "1  75860.wav     0"
      ]
     },
     "execution_count": 12,
     "metadata": {},
     "output_type": "execute_result"
    }
   ],
   "source": [
    "valid_df.head(2)"
   ]
  },
  {
   "cell_type": "code",
   "execution_count": 13,
   "id": "b00ab7f8-156f-4195-aa5a-beb52c0d0945",
   "metadata": {},
   "outputs": [
    {
     "data": {
      "text/html": [
       "<div>\n",
       "<style scoped>\n",
       "    .dataframe tbody tr th:only-of-type {\n",
       "        vertical-align: middle;\n",
       "    }\n",
       "\n",
       "    .dataframe tbody tr th {\n",
       "        vertical-align: top;\n",
       "    }\n",
       "\n",
       "    .dataframe thead th {\n",
       "        text-align: right;\n",
       "    }\n",
       "</style>\n",
       "<table border=\"1\" class=\"dataframe\">\n",
       "  <thead>\n",
       "    <tr style=\"text-align: right;\">\n",
       "      <th></th>\n",
       "      <th>filename</th>\n",
       "    </tr>\n",
       "  </thead>\n",
       "  <tbody>\n",
       "    <tr>\n",
       "      <th>0</th>\n",
       "      <td>3cfce2b5-40c2-4942-8590.wav</td>\n",
       "    </tr>\n",
       "    <tr>\n",
       "      <th>1</th>\n",
       "      <td>9e03a196-7692-4c30-96fb.wav</td>\n",
       "    </tr>\n",
       "  </tbody>\n",
       "</table>\n",
       "</div>"
      ],
      "text/plain": [
       "                      filename\n",
       "0  3cfce2b5-40c2-4942-8590.wav\n",
       "1  9e03a196-7692-4c30-96fb.wav"
      ]
     },
     "execution_count": 13,
     "metadata": {},
     "output_type": "execute_result"
    }
   ],
   "source": [
    "test_df.head(2)"
   ]
  },
  {
   "cell_type": "code",
   "execution_count": 14,
   "id": "aa3eb8f5-0d2f-4e4e-99d7-1d630d882d09",
   "metadata": {},
   "outputs": [
    {
     "data": {
      "text/plain": [
       "(12552, 3138, 8620)"
      ]
     },
     "execution_count": 14,
     "metadata": {},
     "output_type": "execute_result"
    }
   ],
   "source": [
    "len(train_df), len(valid_df), len(test_df)"
   ]
  },
  {
   "cell_type": "code",
   "execution_count": 15,
   "id": "a8d018cc-6cb2-4e54-8d60-b7acae06a8da",
   "metadata": {},
   "outputs": [
    {
     "data": {
      "text/plain": [
       "15690"
      ]
     },
     "execution_count": 15,
     "metadata": {},
     "output_type": "execute_result"
    }
   ],
   "source": [
    "len(train_df) + len(valid_df)"
   ]
  },
  {
   "cell_type": "code",
   "execution_count": null,
   "id": "d22f2651-0e69-4dd5-833b-85a5b83fc85f",
   "metadata": {},
   "outputs": [],
   "source": []
  },
  {
   "cell_type": "code",
   "execution_count": null,
   "id": "5871b998-99ed-47b0-84c6-b40092f0f6f3",
   "metadata": {},
   "outputs": [],
   "source": []
  },
  {
   "cell_type": "code",
   "execution_count": null,
   "id": "38177ba6-278b-4130-87fa-774b5799bd9c",
   "metadata": {},
   "outputs": [],
   "source": []
  },
  {
   "cell_type": "code",
   "execution_count": null,
   "id": "1119be84-a099-46f4-880a-20dbb8d1e6f6",
   "metadata": {},
   "outputs": [],
   "source": []
  },
  {
   "cell_type": "code",
   "execution_count": null,
   "id": "9dc87d22-0a88-40a7-bfb7-c435867b74eb",
   "metadata": {},
   "outputs": [],
   "source": []
  },
  {
   "cell_type": "code",
   "execution_count": null,
   "id": "ed7db3f5-3f21-489b-befa-b6dfcee34729",
   "metadata": {},
   "outputs": [],
   "source": []
  }
 ],
 "metadata": {
  "kernelspec": {
   "display_name": "Python 3",
   "language": "python",
   "name": "python3"
  },
  "language_info": {
   "codemirror_mode": {
    "name": "ipython",
    "version": 3
   },
   "file_extension": ".py",
   "mimetype": "text/x-python",
   "name": "python",
   "nbconvert_exporter": "python",
   "pygments_lexer": "ipython3",
   "version": "3.9.7"
  }
 },
 "nbformat": 4,
 "nbformat_minor": 5
}
